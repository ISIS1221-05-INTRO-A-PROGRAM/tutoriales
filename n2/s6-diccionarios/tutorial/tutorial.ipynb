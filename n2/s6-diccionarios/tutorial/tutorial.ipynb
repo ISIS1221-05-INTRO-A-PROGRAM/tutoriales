{
  "cells": [
    {
      "cell_type": "markdown",
      "metadata": {},
      "source": [
        "# Uso de Diccionarios en Python\n",
        "Los diccionarios en Python son una estructura de datos versátil que te permite almacenar pares clave-valor.\n",
        "Son extremadamente útiles para una variedad de tareas, como contar elementos, almacenar configuraciones,\n",
        "representar grafos, y mucho más. Aprender a usar diccionarios te permitirá manejar datos de manera más eficiente\n",
        "y resolver problemas complejos con mayor facilidad."
      ]
    },
    {
      "cell_type": "code",
      "execution_count": null,
      "metadata": {},
      "outputs": [],
      "source": [
        "# Importación del script de pruebas\n",
        "import pruebas as pr"
      ]
    },
    {
      "cell_type": "markdown",
      "metadata": {},
      "source": [
        "## Creación de Diccionarios\n",
        "Para crear un diccionario en Python, puedes usar llaves `{}`, o la función incorporada `dict()`.\n",
        "Cada elemento de un diccionario es un par clave-valor, separado por dos puntos `:`."
      ]
    },
    {
      "cell_type": "code",
      "execution_count": null,
      "metadata": {},
      "outputs": [],
      "source": [
        "# Creación de un diccionario vacío\n",
        "diccionario_vacio = {}\n",
        "# Creación de un diccionario con elementos\n",
        "mi_diccionario = {'nombre': 'Ana', 'edad': 28, 'ciudad': 'Bogotá'}\n",
        "mi_diccionario"
      ]
    },
    {
      "cell_type": "markdown",
      "metadata": {},
      "source": [
        "### Ejercicio 1\n",
        "Crea un diccionario llamado `mi_libro` con las siguientes claves y valores: `título`, `autor`, y `año`.\n",
        "Asigna el título \"Cien años de soledad\", el autor \"Gabriel García Márquez\", y el año 1967."
      ]
    },
    {
      "cell_type": "code",
      "execution_count": null,
      "metadata": {},
      "outputs": [],
      "source": [
        "# Espacio para el ejercicio 1\n",
        "mi_libro = {\"título\":\"Cien años de soledad\", \"autor\":\"Gabriel García Márquez\", \"año\":1967} # Completa aquí"
      ]
    },
    {
      "cell_type": "code",
      "execution_count": null,
      "metadata": {},
      "outputs": [],
      "source": [
        "# Prueba, pista y solución para el ejercicio 1\n",
        "pr.test_ejercicio1(mi_libro)\n",
        "# pr.hint_ejercicio1()\n",
        "# pr.solution_ejercicio1()"
      ]
    },
    {
      "cell_type": "markdown",
      "metadata": {},
      "source": [
        "## Acceso a Elementos en un Diccionario\n",
        "Puedes acceder a los valores de un diccionario utilizando la clave correspondiente dentro de corchetes `[]`."
      ]
    },
    {
      "cell_type": "code",
      "execution_count": null,
      "metadata": {},
      "outputs": [],
      "source": [
        "# Accediendo a un valor usando su clave\n",
        "nombre = mi_diccionario['nombre']\n",
        "nombre"
      ]
    },
    {
      "cell_type": "markdown",
      "metadata": {},
      "source": [
        "### Ejercicio 2\n",
        "Accede al valor asociado con la clave `autor` en el diccionario `mi_libro` y asignalo a una variable llamada `autor_libro`."
      ]
    },
    {
      "cell_type": "code",
      "execution_count": null,
      "metadata": {},
      "outputs": [],
      "source": [
        "# Espacio para el ejercicio 2\n",
        "autor_libro = None # Completa aquí"
      ]
    },
    {
      "cell_type": "code",
      "execution_count": null,
      "metadata": {},
      "outputs": [],
      "source": [
        "# Prueba, pista y solución para el ejercicio 2\n",
        "pr.test_ejercicio2(autor_libro)\n",
        "# pr.hint_ejercicio2()\n",
        "# pr.solution_ejercicio2()"
      ]
    },
    {
      "cell_type": "markdown",
      "metadata": {},
      "source": [
        "## Modificación de Diccionarios\n",
        "Puedes modificar un diccionario añadiendo nuevos pares clave-valor, o cambiando los valores asociados a claves existentes."
      ]
    },
    {
      "cell_type": "code",
      "execution_count": null,
      "metadata": {},
      "outputs": [],
      "source": [
        "# Añadiendo un nuevo par clave-valor\n",
        "mi_diccionario['profesión'] = 'Ingeniera'\n",
        "# Cambiando el valor de una clave existente\n",
        "mi_diccionario['edad'] = 29\n",
        "mi_diccionario"
      ]
    },
    {
      "cell_type": "markdown",
      "metadata": {},
      "source": [
        "### Ejercicio 3\n",
        "Modifica el diccionario `mi_libro` añadiendo una nueva clave `género` con el valor `Realismo mágico`."
      ]
    },
    {
      "cell_type": "code",
      "execution_count": null,
      "metadata": {},
      "outputs": [],
      "source": [
        "# Espacio para el ejercicio 3\n",
        "# Modifica el diccionario aquí"
      ]
    },
    {
      "cell_type": "code",
      "execution_count": null,
      "metadata": {},
      "outputs": [],
      "source": [
        "# Prueba, pista y solución para el ejercicio 3\n",
        "pr.test_ejercicio3(mi_libro)\n",
        "# pr.hint_ejercicio3()\n",
        "# pr.solution_ejercicio3()"
      ]
    },
    {
      "cell_type": "markdown",
      "metadata": {},
      "source": [
        "## Funciones Comunes de Diccionarios\n",
        "Python ofrece varias funciones útiles para trabajar con diccionarios, como `keys()`, `values()`, e `items()`."
      ]
    },
    {
      "cell_type": "code",
      "execution_count": null,
      "metadata": {},
      "outputs": [],
      "source": [
        "# Obtener todas las claves\n",
        "claves = mi_diccionario.keys()\n",
        "# Obtener todos los valores\n",
        "valores = mi_diccionario.values()\n",
        "# Obtener todos los pares clave-valor\n",
        "pares = mi_diccionario.items()\n",
        "claves, valores, pares"
      ]
    },
    {
      "cell_type": "markdown",
      "metadata": {},
      "source": [
        "### Ejercicio 4\n",
        "Obtén una lista de todas las claves en el diccionario `mi_libro` y asignalas a una variable llamada `claves_libro`."
      ]
    },
    {
      "cell_type": "code",
      "execution_count": null,
      "metadata": {},
      "outputs": [],
      "source": [
        "# Espacio para el ejercicio 4\n",
        "claves_libro = None # Completa aquí"
      ]
    },
    {
      "cell_type": "code",
      "execution_count": null,
      "metadata": {},
      "outputs": [],
      "source": [
        "# Prueba, pista y solución para el ejercicio 4\n",
        "pr.test_ejercicio4(claves_libro)\n",
        "# pr.hint_ejercicio4()\n",
        "# pr.solution_ejercicio4()"
      ]
    }
  ],
  "metadata": {
    "kernelspec": {
      "display_name": "base",
      "language": "python",
      "name": "python3"
    },
    "language_info": {
      "codemirror_mode": {
        "name": "ipython",
        "version": 3
      },
      "file_extension": ".py",
      "mimetype": "text/x-python",
      "name": "python",
      "nbconvert_exporter": "python",
      "pygments_lexer": "ipython3",
      "version": "3.12.8"
    }
  },
  "nbformat": 4,
  "nbformat_minor": 2
}
