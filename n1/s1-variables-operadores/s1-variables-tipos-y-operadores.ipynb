{
 "cells": [
  {
   "cell_type": "markdown",
   "metadata": {},
   "source": [
    "![Banner](https://raw.githubusercontent.com/xxx/repo/main/images/banner-tutoriales.png)\n",
    "# Tutorial 1: Variables, tipos de datos y operadores\n",
    "En este primer tutorial vamos a practicar el uso de variables, tipos de datos y operadores.\n",
    "Para poder utilizarlo, por favor utiliza el botón de run de las diferentes celdas de este notebook. Puedes modificar libremente lo que quieras."
   ]
  },
  {
   "cell_type": "markdown",
   "metadata": {},
   "source": [
    "### Código para importar el módulo de pruebas\n",
    "Por favor ejecute esta celda para poder utilizar este tutorial."
   ]
  },
  {
   "cell_type": "code",
   "execution_count": null,
   "metadata": {},
   "outputs": [],
   "source": [
    "import pruebas # Importa el módulo de pruebas para poder utilizar este tutorial"
   ]
  },
  {
   "cell_type": "markdown",
   "metadata": {},
   "source": [
    "## Parte 1: Instrucciones preliminares ¿Cómo mostrar información en pantalla y cómo escribir comentarios?\n",
    "\n",
    "## print() - Mostrar información en pantalla\n",
    "La función **print()** permite mostrar un mensaje en pantalla. Por ejemplo:\n",
    "\n",
    "## # - Escribir comentarios\n",
    "Anteponer el caracter **#** a un texto hace que este texto no sea interpretado por el programa. \n",
    "Esto es particularmente útil para describir lo que queremos que haga el programa (el algoritmo) \n",
    "antes de comenzar a escribirlo.\n",
    "\n",
    "Veamos como funciona:"
   ]
  },
  {
   "cell_type": "code",
   "execution_count": null,
   "metadata": {
    "execution": {
     "iopub.execute_input": "2023-12-18T18:29:35.685436Z",
     "iopub.status.busy": "2023-12-18T18:29:35.684193Z",
     "iopub.status.idle": "2023-12-18T18:29:35.694921Z",
     "shell.execute_reply": "2023-12-18T18:29:35.693781Z",
     "shell.execute_reply.started": "2023-12-18T18:29:35.685371Z"
    },
    "trusted": true
   },
   "outputs": [],
   "source": [
    "# Esta primera instrucción muestra en pantalla el texto \"Hola mundo\" sin comillas\n",
    "print(\"Hola mundo\")\n",
    "# Esta segunda instrucción muestra en pantalla el número 3.1416 \n",
    "print(3.1416)"
   ]
  },
  {
   "cell_type": "markdown",
   "metadata": {},
   "source": [
    "## Parte 2 : Variables - ¿Cómo guardar información en la memoria del computador?\n",
    "\n",
    "Las variables son espacios en memoria donde podemos guardar un valor. Este valor puede ser:\n",
    "* Un número (3, 5, 0, -1, 3.1416 , etc.)\n",
    "* Una cadena de caracteres (\"Hola\", 'f', \"Una frase\")\n",
    "* Un valor de verdad (False, True)\n",
    "\n",
    "Con las variables se puede **guardar un valor en memoria**, **consultar su valor** y **modificar su valor** y **averiguar el tipo de una variable**\n"
   ]
  },
  {
   "cell_type": "markdown",
   "metadata": {},
   "source": [
    "\n",
    "### Guardar un valor en una variable\n",
    "Para guardar un valor en una variable se escribe el nombre de la variable a crear, seguido del operador **=** y luego el valor que se le asginará:"
   ]
  },
  {
   "cell_type": "code",
   "execution_count": null,
   "metadata": {
    "_cell_guid": "b1076dfc-b9ad-4769-8c92-a6c4dae69d19",
    "_uuid": "8f2839f25d086af736a60e9eeb907d3b93b6e0e5",
    "execution": {
     "iopub.execute_input": "2023-12-18T18:29:35.698605Z",
     "iopub.status.busy": "2023-12-18T18:29:35.697900Z",
     "iopub.status.idle": "2023-12-18T18:29:35.707110Z",
     "shell.execute_reply": "2023-12-18T18:29:35.705754Z",
     "shell.execute_reply.started": "2023-12-18T18:29:35.698563Z"
    },
    "trusted": true
   },
   "outputs": [],
   "source": [
    "# Creemos dos variables con números enteros\n",
    "\n",
    "variable_entera = 1\n",
    "otra_variable = -2\n",
    "\n",
    "# Creemos una variable con un número real\n",
    "pi = 3.1416\n",
    "\n",
    "# Creemos dos variables con cadenas de texto\n",
    "saludo = \"Hola, ¿Cómo estás?\"\n",
    "respuesta = \"bien\"\n",
    "\n",
    "# Creemos una variable con un valor de verdad\n",
    "cierto = False"
   ]
  },
  {
   "cell_type": "markdown",
   "metadata": {},
   "source": [
    "### Consultar un valor en una variable\n",
    "Para consultar el valor en una variable se escribe el nombre de la variable a consultar. De esta manera se puede enviar su valor a un print o guardarlo en otra variable."
   ]
  },
  {
   "cell_type": "code",
   "execution_count": null,
   "metadata": {
    "execution": {
     "iopub.execute_input": "2023-12-18T18:29:35.709494Z",
     "iopub.status.busy": "2023-12-18T18:29:35.708821Z",
     "iopub.status.idle": "2023-12-18T18:29:35.719671Z",
     "shell.execute_reply": "2023-12-18T18:29:35.718307Z",
     "shell.execute_reply.started": "2023-12-18T18:29:35.709453Z"
    },
    "trusted": true
   },
   "outputs": [],
   "source": [
    "# Mostremos el valor de la primera variable\n",
    "print(variable_entera)\n",
    "\n",
    "# Mostremos el valor de la variable que tiene un número real\n",
    "print(\"El valor de pi es: \",pi)\n",
    "\n",
    "# Mostremos el valor de la variable que contiene uno de los textos\n",
    "print(saludo)\n",
    "print(respuesta)\n",
    "print(\"¿Será cierta esa respuesta?\", cierto)"
   ]
  },
  {
   "cell_type": "markdown",
   "metadata": {},
   "source": [
    "### Modificar el valor en una variable\n",
    "Para modificar el valor en una variable se escribe el nombre de la variable a modificar. "
   ]
  },
  {
   "cell_type": "code",
   "execution_count": null,
   "metadata": {
    "execution": {
     "iopub.execute_input": "2023-12-18T18:29:35.721847Z",
     "iopub.status.busy": "2023-12-18T18:29:35.721537Z",
     "iopub.status.idle": "2023-12-18T18:29:35.732043Z",
     "shell.execute_reply": "2023-12-18T18:29:35.730692Z",
     "shell.execute_reply.started": "2023-12-18T18:29:35.721820Z"
    },
    "trusted": true
   },
   "outputs": [],
   "source": [
    "# Cambiemos el valor de la variable entera a un número real\n",
    "otra_variable = -2.56\n",
    "\n",
    "# Cambiemos el valor de la variable de respuesta al saludo\n",
    "respuesta = \"Más o menos\"\n",
    "\n",
    "# Cambiemos el valor de la variable de cierto a True \n",
    "cierto = True\n",
    "\n",
    "# Mostremos el cambio\n",
    "\n",
    "print(otra_variable)\n",
    "print(respuesta)\n",
    "print(\"¿Será cierta esa respuesta?\", cierto)\n"
   ]
  },
  {
   "cell_type": "markdown",
   "metadata": {},
   "source": [
    "### Consultar el tipo de una variable\n",
    "Para consultar el tipo de una variable se utiliza la función **type()** y se le pasa como parámetro el nombre de la variable a consultar. \n"
   ]
  },
  {
   "cell_type": "code",
   "execution_count": null,
   "metadata": {
    "execution": {
     "iopub.execute_input": "2023-12-18T18:29:35.736418Z",
     "iopub.status.busy": "2023-12-18T18:29:35.735264Z",
     "iopub.status.idle": "2023-12-18T18:29:35.744892Z",
     "shell.execute_reply": "2023-12-18T18:29:35.743787Z",
     "shell.execute_reply.started": "2023-12-18T18:29:35.736378Z"
    },
    "trusted": true
   },
   "outputs": [],
   "source": [
    "# Veamos el tipo de una variable entera \n",
    "print(\"El tipo de la variable entera es: \", type(variable_entera))\n",
    "\n",
    "# Veamos el tipo de un valor directamente\n",
    "print(\"El tipo de el valor 3.45 es: \", type(3.45))\n",
    "\n",
    "# Veamos el tipo del saludo\n",
    "print(type(saludo))\n",
    "\n",
    "# Veamos el tipo del valor de verdad\n",
    "print(type(cierto))"
   ]
  },
  {
   "cell_type": "markdown",
   "metadata": {},
   "source": [
    "### Ejercicio 1: Dime tu año de nacimiento y tu nombre\n",
    "1. Crea una variable entera llamada **anio_nacimiento**. Su valor debe ser mayor que cero y menor al año actual.\n",
    "2. Crea una variable de texto llamada **nombre**. Su valor debe ser tu nombre"
   ]
  },
  {
   "cell_type": "code",
   "execution_count": null,
   "metadata": {
    "execution": {
     "iopub.execute_input": "2023-12-18T18:29:35.746680Z",
     "iopub.status.busy": "2023-12-18T18:29:35.746225Z",
     "iopub.status.idle": "2023-12-18T18:29:35.756984Z",
     "shell.execute_reply": "2023-12-18T18:29:35.755809Z",
     "shell.execute_reply.started": "2023-12-18T18:29:35.746641Z"
    },
    "trusted": true
   },
   "outputs": [],
   "source": [
    "# EJERCICIO 1: INICIO\n",
    "\n",
    "# EJERCICIO 1: FIN"
   ]
  },
  {
   "cell_type": "code",
   "execution_count": null,
   "metadata": {},
   "outputs": [],
   "source": [
    "# Código de pruebas\n",
    "\n",
    "pruebas.ejercicio1_prueba(locals())\n",
    "#pruebas.ejercicio1_pista()\n",
    "#pruebas.ejercicio1_respuesta()"
   ]
  },
  {
   "cell_type": "markdown",
   "metadata": {},
   "source": [
    "## Parte 3: Operaciones y operadores. ¿Cómo se realizan cálculos con variables?\n",
    "Se pueden realizar cálculos aritméticos, lógicos y relacionales (de comparación). La manera de realizar cálculos es mediante el uso de un operador que afecta una o más variables. \n"
   ]
  },
  {
   "cell_type": "markdown",
   "metadata": {},
   "source": [
    "### Operaciones matemáticas\n",
    "Las operaciones matemáticas permiten tomar uno o más datos numéricos y modificarlos. Las operaciones típicas incluyen la suma, resta, negación (cambio de signo), multiplicación, división real, división entera, módulo , potenciación, entre otras."
   ]
  },
  {
   "cell_type": "code",
   "execution_count": null,
   "metadata": {
    "execution": {
     "iopub.execute_input": "2023-12-18T18:39:31.672473Z",
     "iopub.status.busy": "2023-12-18T18:39:31.672038Z",
     "iopub.status.idle": "2023-12-18T18:39:31.678993Z",
     "shell.execute_reply": "2023-12-18T18:39:31.678000Z",
     "shell.execute_reply.started": "2023-12-18T18:39:31.672443Z"
    },
    "trusted": true
   },
   "outputs": [],
   "source": [
    "# Comencemos con una suma \n",
    "manzanas_juanito = 4\n",
    "manzanas_mariana = 6\n",
    "# ¿Cuántas manzanas tienen juntos?\n",
    "manzanas_suma = manzanas_juanito + manzanas_mariana\n",
    "print(\"Juntos tienen:\",manzanas_suma)"
   ]
  },
  {
   "cell_type": "code",
   "execution_count": null,
   "metadata": {
    "execution": {
     "iopub.execute_input": "2023-12-18T18:41:42.885983Z",
     "iopub.status.busy": "2023-12-18T18:41:42.885598Z",
     "iopub.status.idle": "2023-12-18T18:41:42.894651Z",
     "shell.execute_reply": "2023-12-18T18:41:42.892402Z",
     "shell.execute_reply.started": "2023-12-18T18:41:42.885954Z"
    },
    "trusted": true
   },
   "outputs": [],
   "source": [
    "# Ahora restemos\n",
    "\n",
    "anio_nacimiento = 2005\n",
    "edad = 2025 - anio_nacimiento\n",
    "print(\"La edad es: \", edad)"
   ]
  },
  {
   "cell_type": "code",
   "execution_count": null,
   "metadata": {},
   "outputs": [],
   "source": [
    "# Multiplicaciones y divisiones\n",
    "\n",
    "total_ventas = 10000000\n",
    "porcentaje_comision = 30\n",
    "comisiones_totales = (total_ventas*porcentaje_comision) / 100\n",
    "print(\"El valor de las comisiones es: $\", comisiones_totales)"
   ]
  },
  {
   "cell_type": "code",
   "execution_count": null,
   "metadata": {},
   "outputs": [],
   "source": [
    "# División entera , división real y módulo\n",
    "\n",
    "# Comencemos haciendo una división real\n",
    "capacidad_botella = 1000\n",
    "vasos = 7\n",
    "porcion_vaso = capacidad_botella / 7\n",
    "print(\"La porción de cada vaso será\",porcion_vaso)\n",
    "\n",
    "# Ahora hagamos la misma división, pero con división entera\n",
    "porcion_entera = capacidad_botella // 7\n",
    "print(\"La porción entera de cada vaso es: \", porcion_entera )\n",
    "\n",
    "# Ahora usemos el módulo para calcular cuánto sobra\n",
    "sobrante = capacidad_botella % 7\n",
    "print(\"La cantidad sobrante es: \", sobrante)"
   ]
  },
  {
   "cell_type": "code",
   "execution_count": null,
   "metadata": {},
   "outputs": [],
   "source": [
    "# Potenciación\n",
    "base = 2\n",
    "exponente = 10\n",
    "potencia = base**exponente\n",
    "print(\"La potencia es: \", potencia)"
   ]
  },
  {
   "cell_type": "markdown",
   "metadata": {},
   "source": [
    "### Ejercicio 2: Conversión de unidades de capacidad\n",
    "1. Crea una variable que se llame **galones** con un número mayor o igual a cero\n",
    "2. Crea una variable que se llame **litros**. Utilízala para guardar el valor calculado de convertir en litros, la cantidad especificada en la variable **galones** (Un galón equivale a 3.78541 Litros)"
   ]
  },
  {
   "cell_type": "code",
   "execution_count": null,
   "metadata": {},
   "outputs": [],
   "source": [
    "# EJERCICIO 2: INICIO\n",
    "\n",
    "# EJERCICIO 2: FIN"
   ]
  },
  {
   "cell_type": "code",
   "execution_count": null,
   "metadata": {},
   "outputs": [],
   "source": [
    "\n",
    "# Código de pruebas\n",
    "\n",
    "pruebas.ejercicio2_prueba(locals())\n",
    "#pruebas.ejercicio2_pista()\n",
    "#pruebas.ejercicio2_respuesta()"
   ]
  },
  {
   "cell_type": "markdown",
   "metadata": {},
   "source": [
    "### Ejercicio 3: Cálculo de cuota de crédito\n",
    "1. Crea una variable **monto** que representa el valor de un préstamo. Fija su valor en un número entero mayor a cero (Por ejemplo, 80000000)\n",
    "2. Crea una variable **cuotas** que representa las cuotas a las que fué diferido. Fija su valor en un entero múltiplo de 12 (Por ejemplo, 120)\n",
    "3. Crea una variable **interes** que representa la tasa de interés aplicada a cada cuota. Fija su valor en un número real mayor a cero y menor a 1 (Por ejemplo, 0.005)\n",
    "4. Crea una variable **primera_cuota** que representa el valor de la primera cuota. Calcule su valor basado en la formula: \n",
    "\n",
    "$$monto * \\frac{tasa * (1 + tasa)^{cuotas}}{(1 + tasa)^{cuotas} - 1}$$\n"
   ]
  },
  {
   "cell_type": "code",
   "execution_count": null,
   "metadata": {},
   "outputs": [],
   "source": [
    "# EJERCICIO 3: INICIO\n",
    "\n",
    "# EJERCICIO 3: FIN\n"
   ]
  },
  {
   "cell_type": "code",
   "execution_count": null,
   "metadata": {},
   "outputs": [],
   "source": [
    "\n",
    "# Código de pruebas\n",
    "pruebas.ejercicio3_prueba(locals())\n",
    "#pruebas.ejercicio3_pista()\n",
    "#pruebas.ejercicio3_respuesta()\n"
   ]
  },
  {
   "cell_type": "markdown",
   "metadata": {},
   "source": [
    "### Operaciones relacionales\n",
    "Las operaciones matemáticas permiten tomar uno o más datos numéricos y compararlos. Las operaciones típicas incluyen la igualdad, desigualdad, mayor qué, menor qué, mayor o igual, menor o igual, etc."
   ]
  },
  {
   "cell_type": "code",
   "execution_count": null,
   "metadata": {},
   "outputs": [],
   "source": [
    "# Igualdad y desigualdad\n",
    "iguales = (2+2) == 4\n",
    "print(\"¿Són estos números iguales?\",iguales)\n",
    "\n",
    "diferentes = (3+5) != 8\n",
    "print(\"¿Són estos números diferentes?\", diferentes)\n",
    "\n",
    "# Mayor, menor, mayor igual y menor igual\n",
    "edad = 22\n",
    "mayor_edad = edad >= 18\n",
    "print(\"¿Es esta persona mayor de edad?\",mayor_edad)\n",
    "\n",
    "edad = 17\n",
    "menor_edad = edad < 18\n",
    "print(\"¿Es esta persona menor de edad?\",menor_edad)"
   ]
  },
  {
   "cell_type": "markdown",
   "metadata": {},
   "source": [
    "### Operaciones lógicas\n",
    "Las operaciones lógicas permiten tomar uno o más valores de verdad y operarlos. Las operaciones típicas incluyen:\n",
    " - Conjunción Y: Verdadera solo si sus dos argumentos son Verdaderos\n",
    " - Disyunción O: Verdadera si alguno de sus dos argumetnos es verdadero\n",
    " - Negación NO: Verdadera si su argumento es falso"
   ]
  },
  {
   "cell_type": "markdown",
   "metadata": {},
   "source": [
    "### Ejercicio 4: Entradas a cine\n",
    "\n",
    "Un cinema se rige por las siguientes reglas:\n",
    "\n",
    " - Si es cliente es mayor de edad , puede entrar a la película sin importar su clasificación\n",
    " - Si la película es **tipo \"A\"** puede verla todo el mundo\n",
    " - Si la edad del cliente es mayor o igual a 13 y menor de 18 puede ver películas **tipo \"B\"** con acompañamiento de un adulto\n",
    " - Si la película es **tipo \"C\"** solo personas con edad mayor o igual a 18 pueden verla\n",
    "\n",
    "Para resolver el ejercicio:\n",
    "\n",
    "1. Crea una variable **clasificación** que representa una clasificación de película. Fija su valor en \"A\", \"B\" o \"C\"\n",
    "2. Crea una variable **edad** que representa la edad de una persona que irá a ver una película. Fija su valor en un entero mayor a cero\n",
    "3. Crea una variable **adulto** que representa si un adulto acompaña a quien irá a ver una película. Fija su valor True o False\n",
    "4. Crea una variable **autorización** que representa si la persona en cuestión puede ver la película. Calcule su valor basado de acuerdo las reglas definidas.\n",
    "\n",
    "5. Pruebe con otros valores, por ejemplo:\n",
    " - clasificación \"A\", edad 12, adulto False\n",
    " - clasificación \"C\", edad 17, adulto True"
   ]
  },
  {
   "cell_type": "code",
   "execution_count": null,
   "metadata": {},
   "outputs": [],
   "source": [
    "# EJERCICIO 4: INICIO\n",
    "\n",
    "# EJERCICIO 4: FIN"
   ]
  },
  {
   "cell_type": "code",
   "execution_count": null,
   "metadata": {},
   "outputs": [],
   "source": [
    "# Codigo para probar la respuesta\n",
    "\n",
    "pruebas.ejercicio4_prueba(locals())\n",
    "#pruebas.ejercicio4_pista()     \n",
    "#pruebas.ejercicio4_respuesta()"
   ]
  }
 ],
 "metadata": {
  "kaggle": {
   "accelerator": "none",
   "dataSources": [
    {
     "sourceId": 155554331,
     "sourceType": "kernelVersion"
    }
   ],
   "dockerImageVersionId": 30626,
   "isGpuEnabled": false,
   "isInternetEnabled": true,
   "language": "python",
   "sourceType": "notebook"
  },
  "kernelspec": {
   "display_name": "base",
   "language": "python",
   "name": "python3"
  },
  "language_info": {
   "codemirror_mode": {
    "name": "ipython",
    "version": 3
   },
   "file_extension": ".py",
   "mimetype": "text/x-python",
   "name": "python",
   "nbconvert_exporter": "python",
   "pygments_lexer": "ipython3",
   "version": "3.12.8"
  }
 },
 "nbformat": 4,
 "nbformat_minor": 4
}
