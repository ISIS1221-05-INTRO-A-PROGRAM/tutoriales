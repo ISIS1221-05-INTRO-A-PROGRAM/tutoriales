{
 "cells": [
  {
   "cell_type": "markdown",
   "metadata": {},
   "source": [
    "![Encabezado](https://i.imgur.com/your-image-url.png)\n",
    "# Listas en Python\n",
    "Las listas son una de las estructuras de datos más versátiles y fundamentales en Python. Permiten almacenar una colección ordenada y modificable de ítems. Esto significa que puedes guardar diferentes tipos de datos (números, cadenas de texto, incluso otras listas) en una sola variable, acceder a ellos por su posición, cambiar su contenido e incluso añadir o eliminar elementos.\n",
    "\n",
    "Aprender a usar listas es crucial para resolver una gran variedad de problemas en programación, desde organizar datos de clientes en una aplicación, gestionar elementos en un juego, procesar una serie de mediciones científicas, hasta construir algoritmos complejos. Su flexibilidad las convierte en una herramienta indispensable para cualquier programador de Python."
   ]
  },
  {
   "cell_type": "code",
   "execution_count": 4,
   "metadata": {},
   "outputs": [],
   "source": [
    "import pruebas as pr # Incluye el script de pruebas"
   ]
  },
  {
   "cell_type": "markdown",
   "metadata": {},
   "source": [
    "## Creación de listas\n",
    "Las listas en Python se crean colocando todos los elementos dentro de corchetes `[]`, separados por comas. Una lista puede contener elementos de diferentes tipos de datos."
   ]
  },
  {
   "cell_type": "code",
   "execution_count": 5,
   "metadata": {},
   "outputs": [
    {
     "name": "stdout",
     "output_type": "stream",
     "text": [
      "Lista vacía: []\n",
      "Lista de números: [1, 2, 3, 4, 5]\n",
      "Lista de frutas: ['manzana', 'banana', 'cereza']\n",
      "Lista mixta: [1, 'hola', 3.14, True]\n"
     ]
    }
   ],
   "source": [
    "# Ejemplo de creación de listas\n",
    "lista_vacia = [] # Una lista sin elementos\n",
    "print(f\"Lista vacía: {lista_vacia}\")\n",
    "\n",
    "numeros = [1, 2, 3, 4, 5] # Una lista de números enteros\n",
    "print(f\"Lista de números: {numeros}\")\n",
    "\n",
    "frutas = ['manzana', 'banana', 'cereza'] # Una lista de cadenas de texto\n",
    "print(f\"Lista de frutas: {frutas}\")\n",
    "\n",
    "mixta = [1, 'hola', 3.14, True] # Una lista con diferentes tipos de datos\n",
    "print(f\"Lista mixta: {mixta}\")"
   ]
  },
  {
   "cell_type": "markdown",
   "metadata": {},
   "source": [
    "### Ejercicio 1: Creando tu primera lista\n",
    "Crea una lista llamada `colores` que contenga los siguientes elementos: 'rojo', 'verde', 'azul', 'amarillo'."
   ]
  },
  {
   "cell_type": "code",
   "execution_count": null,
   "metadata": {},
   "outputs": [],
   "source": [
    "# Escribe tu código aquí"
   ]
  },
  {
   "cell_type": "code",
   "execution_count": null,
   "metadata": {},
   "outputs": [],
   "source": [
    "pr.test_ejercicio1(colores)\n",
    "pr.hint_ejercicio1()\n",
    "pr.solution_ejercicio1()"
   ]
  },
  {
   "cell_type": "markdown",
   "metadata": {},
   "source": [
    "## Acceso a elementos de listas\n",
    "Los elementos de una lista se acceden utilizando su índice, que es su posición dentro de la lista. En Python, los índices comienzan en `0` para el primer elemento. También se pueden usar índices negativos para acceder a elementos desde el final de la lista, donde `-1` es el último elemento."
   ]
  },
  {
   "cell_type": "code",
   "execution_count": 6,
   "metadata": {},
   "outputs": [
    {
     "name": "stdout",
     "output_type": "stream",
     "text": [
      "Primer elemento: a\n",
      "Tercer elemento: c\n",
      "Último elemento: e\n",
      "Penúltimo elemento: d\n"
     ]
    }
   ],
   "source": [
    "# Ejemplo de acceso a elementos\n",
    "letras = ['a', 'b', 'c', 'd', 'e']\n",
    "\n",
    "print(f\"Primer elemento: {letras[0]}\") # Accede al primer elemento (índice 0)\n",
    "print(f\"Tercer elemento: {letras[2]}\") # Accede al tercer elemento (índice 2)\n",
    "print(f\"Último elemento: {letras[-1]}\") # Accede al último elemento\n",
    "print(f\"Penúltimo elemento: {letras[-2]}\") # Accede al penúltimo elemento"
   ]
  },
  {
   "cell_type": "markdown",
   "metadata": {},
   "source": [
    "### Ejercicio 2: Accediendo a elementos\n",
    "Dada la lista `animales = ['perro', 'gato', 'elefante', 'tigre']`, imprime el segundo elemento y el último elemento de la lista."
   ]
  },
  {
   "cell_type": "code",
   "execution_count": 7,
   "metadata": {},
   "outputs": [],
   "source": [
    "# Escribe tu código aquí\n",
    "segundo_animal=\"\"\n",
    "ultimo_animal=\"\""
   ]
  },
  {
   "cell_type": "code",
   "execution_count": 8,
   "metadata": {},
   "outputs": [
    {
     "name": "stdout",
     "output_type": "stream",
     "text": [
      "Ejercicio 2 Incorrecto (segundo elemento). Se esperaba 'gato', pero se obtuvo ''.\n",
      "Ejercicio 2 Incorrecto (último elemento). Se esperaba 'tigre', pero se obtuvo ''.\n",
      "Pista: Recuerda que los índices de las listas empiezan en 0. Para el último elemento, puedes usar un índice negativo.\n",
      "Ejemplo: `lista[1]` para el segundo elemento, `lista[-1]` para el último.\n",
      "Solución Ejercicio 2:\n",
      "```python\n",
      "animales = ['perro', 'gato', 'elefante', 'tigre']\n",
      "segundo_animal = animales[1]\n",
      "ultimo_animal = animales[-1]\n",
      "print(f\"Segundo animal: {segundo_animal}\")\n",
      "print(f\"Último animal: {ultimo_animal}\")\n",
      "```\n"
     ]
    }
   ],
   "source": [
    "pr.test_ejercicio2(segundo_animal, ultimo_animal)\n",
    "pr.hint_ejercicio2()\n",
    "pr.solution_ejercicio2()"
   ]
  },
  {
   "cell_type": "markdown",
   "metadata": {},
   "source": [
    "## Modificación de listas\n",
    "Las listas son mutables, lo que significa que puedes cambiar el valor de un elemento específico utilizando su índice. También puedes añadir nuevos elementos o eliminar elementos existentes."
   ]
  },
  {
   "cell_type": "code",
   "execution_count": null,
   "metadata": {},
   "outputs": [],
   "source": [
    "# Ejemplo de modificación de elementos\n",
    "puntuaciones = [85, 90, 78, 92]\n",
    "print(f\"Lista original: {puntuaciones}\")\n",
    "\n",
    "puntuaciones[1] = 95 # Cambia el segundo elemento\n",
    "print(f\"Lista modificada: {puntuaciones}\")"
   ]
  },
  {
   "cell_type": "markdown",
   "metadata": {},
   "source": [
    "### Ejercicio 3: Modificando un valor\n",
    "Dada la lista `ciudades = ['Bogotá', 'Medellín', 'Cali', 'Barranquilla']`, cambia 'Cali' por 'Cartagena'."
   ]
  },
  {
   "cell_type": "code",
   "execution_count": null,
   "metadata": {},
   "outputs": [],
   "source": [
    "# Escribe tu código aquí"
   ]
  },
  {
   "cell_type": "code",
   "execution_count": null,
   "metadata": {},
   "outputs": [],
   "source": [
    "pr.test_ejercicio3(ciudades)\n",
    "pr.hint_ejercicio3()\n",
    "pr.solution_ejercicio3()"
   ]
  },
  {
   "cell_type": "markdown",
   "metadata": {},
   "source": [
    "## Métodos de listas\n",
    "Python proporciona varios métodos incorporados para trabajar con listas. Algunos de los más comunes son:\n",
    "- `append()`: Añade un elemento al final de la lista.\n",
    "- `insert()`: Añade un elemento en una posición específica.\n",
    "- `remove()`: Elimina la primera ocurrencia de un valor específico.\n",
    "- `pop()`: Elimina y devuelve un elemento en una posición específica (o el último si no se especifica el índice)."
   ]
  },
  {
   "cell_type": "code",
   "execution_count": null,
   "metadata": {},
   "outputs": [],
   "source": [
    "# Ejemplo de métodos de listas\n",
    "elementos = [10, 20, 30]\n",
    "print(f\"Lista inicial: {elementos}\")\n",
    "\n",
    "elementos.append(40) # Añade 40 al final\n",
    "print(f\"Después de append(40): {elementos}\")\n",
    "\n",
    "elementos.insert(1, 15) # Inserta 15 en el índice 1\n",
    "print(f\"Después de insert(1, 15): {elementos}\")\n",
    "\n",
    "elementos.remove(30) # Elimina la primera ocurrencia de 30\n",
    "print(f\"Después de remove(30): {elementos}\")\n",
    "\n",
    "elemento_eliminado = elementos.pop(0) # Elimina y obtiene el elemento en el índice 0\n",
    "print(f\"Elemento eliminado con pop(0): {elemento_eliminado}\")\n",
    "print(f\"Después de pop(0): {elementos}\")"
   ]
  },
  {
   "cell_type": "markdown",
   "metadata": {},
   "source": [
    "### Ejercicio 4: Usando métodos de lista\n",
    "Dada la lista `tareas = ['Estudiar', 'Comprar', 'Cocinar']`:\n",
    "1. Añade 'Hacer ejercicio' al final de la lista.\n",
    "2. Inserta 'Leer' en la segunda posición (índice 1).\n",
    "3. Elimina 'Comprar' de la lista."
   ]
  },
  {
   "cell_type": "code",
   "execution_count": null,
   "metadata": {},
   "outputs": [],
   "source": [
    "# Escribe tu código aquí"
   ]
  },
  {
   "cell_type": "code",
   "execution_count": null,
   "metadata": {},
   "outputs": [],
   "source": [
    "pr.test_ejercicio4(tareas)\n",
    "pr.hint_ejercicio4()\n",
    "pr.solution_ejercicio4()"
   ]
  },
  {
   "cell_type": "markdown",
   "metadata": {},
   "source": [
    "## Slicing de listas\n",
    "El slicing (rebanado) te permite obtener una parte de una lista. Se utiliza la sintaxis `[inicio:fin:paso]`, donde:\n",
    "- `inicio`: El índice donde comienza el rebanado (incluido). Si se omite, es 0.\n",
    "- `fin`: El índice donde termina el rebanado (excluido). Si se omite, es el final de la lista.\n",
    "- `paso`: El incremento entre elementos (opcional, por defecto es 1)."
   ]
  },
  {
   "cell_type": "code",
   "execution_count": null,
   "metadata": {},
   "outputs": [],
   "source": [
    "# Ejemplo de slicing\n",
    "numeros_grandes = [0, 10, 20, 30, 40, 50, 60, 70, 80, 90]\n",
    "\n",
    "sub_lista1 = numeros_grandes[2:6] # Elementos desde el índice 2 hasta antes del 6\n",
    "print(f\"sub_lista1 (2:6): {sub_lista1}\")\n",
    "\n",
    "sub_lista2 = numeros_grandes[:5] # Elementos desde el principio hasta antes del 5\n",
    "print(f\"sub_lista2 (:5): {sub_lista2}\")\n",
    "\n",
    "sub_lista3 = numeros_grandes[5:] # Elementos desde el índice 5 hasta el final\n",
    "print(f\"sub_lista3 (5:): {sub_lista3}\")\n",
    "\n",
    "sub_lista4 = numeros_grandes[:] # Una copia completa de la lista\n",
    "print(f\"sub_lista4 (:): {sub_lista4}\")\n",
    "\n",
    "sub_lista5 = numeros_grandes[::2] # Cada segundo elemento\n",
    "print(f\"sub_lista5 (::2): {sub_lista5}\")\n",
    "\n",
    "sub_lista6 = numeros_grandes[::-1] # La lista invertida\n",
    "print(f\"sub_lista6 (::-1): {sub_lista6}\")"
   ]
  },
  {
   "cell_type": "markdown",
   "metadata": {},
   "source": [
    "### Ejercicio 5: Rebanando una lista\n",
    "Dada la lista `alfabeto = ['a', 'b', 'c', 'd', 'e', 'f', 'g', 'h']`:\n",
    "1. Crea una nueva lista llamada `primeros_tres` que contenga los primeros tres elementos.\n",
    "2. Crea una nueva lista llamada `del_d_al_g` que contenga los elementos desde 'd' hasta 'g' (inclusive)."
   ]
  },
  {
   "cell_type": "code",
   "execution_count": null,
   "metadata": {},
   "outputs": [],
   "source": [
    "# Escribe tu código aquí"
   ]
  },
  {
   "cell_type": "code",
   "execution_count": null,
   "metadata": {},
   "outputs": [],
   "source": [
    "pr.test_ejercicio5(primeros_tres, del_d_al_g)\n",
    "pr.hint_ejercicio5()\n",
    "pr.solution_ejercicio5()"
   ]
  },
  {
   "cell_type": "markdown",
   "metadata": {},
   "source": [
    "## Iterar sobre listas\n",
    "Puedes recorrer (iterar) todos los elementos de una lista utilizando un bucle `for`. Esto es útil cuando necesitas procesar cada elemento de la lista."
   ]
  },
  {
   "cell_type": "code",
   "execution_count": null,
   "metadata": {},
   "outputs": [],
   "source": [
    "# Ejemplo de iteración sobre listas\n",
    "estudiantes = ['Ana', 'Luis', 'Sofía', 'Pedro']\n",
    "\n",
    "print(\"Nombres de estudiantes:\")\n",
    "for estudiante in estudiantes:\n",
    "    print(estudiante)\n",
    "\n",
    "# También puedes iterar con el índice usando enumerate()\n",
    "print(\"\\nNombres de estudiantes con índice:\")\n",
    "for i, estudiante in enumerate(estudiantes):\n",
    "    print(f\"El estudiante en el índice {i} es {estudiante}\")"
   ]
  },
  {
   "cell_type": "markdown",
   "metadata": {},
   "source": [
    "### Ejercicio 6: Iterando sobre números\n",
    "Dada la lista `numeros_pares = [2, 4, 6, 8, 10]`, usa un bucle `for` para imprimir cada número de la lista, seguido de la frase \"es un número par\"."
   ]
  },
  {
   "cell_type": "code",
   "execution_count": null,
   "metadata": {},
   "outputs": [],
   "source": [
    "# Escribe tu código aquí"
   ]
  },
  {
   "cell_type": "code",
   "execution_count": null,
   "metadata": {},
   "outputs": [],
   "source": [
    "pr.test_ejercicio6(numeros_pares)\n",
    "pr.hint_ejercicio6()\n",
    "pr.solution_ejercicio6()"
   ]
  }
 ],
 "metadata": {
  "kernelspec": {
   "display_name": "base",
   "language": "python",
   "name": "python3"
  },
  "language_info": {
   "codemirror_mode": {
    "name": "ipython",
    "version": 3
   },
   "file_extension": ".py",
   "mimetype": "text/x-python",
   "name": "python",
   "nbconvert_exporter": "python",
   "pygments_lexer": "ipython3",
   "version": "3.12.8"
  }
 },
 "nbformat": 4,
 "nbformat_minor": 4
}
